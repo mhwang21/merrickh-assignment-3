{
  "cells": [
    {
      "cell_type": "markdown",
      "id": "245217cc",
      "metadata": {
        "id": "245217cc"
      },
      "source": [
        "# Assignment: SVD Preprocessing on MNIST with Logistic Regression"
      ]
    },
    {
      "cell_type": "markdown",
      "id": "deffa444",
      "metadata": {
        "id": "deffa444"
      },
      "source": [
        "## Instructions:\n",
        "In this assignment, you will apply **Singular Value Decomposition (SVD)** as a preprocessing step to the **MNIST dataset** and train a **logistic regression classifier**. You will compare the model performance and training time when using different levels of SVD for dimensionality reduction.\n",
        "\n",
        "In this assignment, you will need to:\n",
        "1. Load the MNIST dataset and normalize it.\n",
        "2. Perform SVD and reduce the dimensions of the data.\n",
        "3. Train a logistic regression model on the original and SVD-reduced data.\n",
        "4. Measure and compare the training time and accuracy of the model with varying SVD components.\n",
        "5. Plot the results and analyze how SVD impacts the performance and efficiency of the model.\n",
        "\n",
        "***\n",
        "Your tasks include:\n",
        "1. Implement SVD algorithm. You are not allowed to directly use SVD implemented by other packages, but you may use functions in NumPy. (Part 2)\n",
        "2. Explore the accuracy and time performance from different numbers of SVD components. (Part 4)\n",
        "3. Visualize the accuracy, time performance and top 5 singular vectors in the dataset, analyze and explain which number of SVD component looks best to you? (Part 4,5&6) Hint: singular vectors should be reshaped to 28x28 images for visualization.\n",
        "***\n",
        "**Note that you may not import any other function or package.** Let's get started!\n"
      ]
    },
    {
      "cell_type": "markdown",
      "id": "b3e10cb3",
      "metadata": {
        "id": "b3e10cb3"
      },
      "source": [
        "## Part 1: Load the MNIST dataset and preprocess the data"
      ]
    },
    {
      "cell_type": "code",
      "execution_count": 3,
      "id": "79f2d907",
      "metadata": {
        "colab": {
          "base_uri": "https://localhost:8080/"
        },
        "id": "79f2d907",
        "outputId": "6c6d8730-04dd-4527-a676-109411ed0477"
      },
      "outputs": [
        {
          "output_type": "stream",
          "name": "stdout",
          "text": [
            "Loading MNIST dataset...\n",
            "Loading MNIST dataset...\n"
          ]
        }
      ],
      "source": [
        "import numpy as np\n",
        "import matplotlib.pyplot as plt\n",
        "import time\n",
        "from sklearn.linear_model import LogisticRegression\n",
        "from sklearn.model_selection import train_test_split\n",
        "from sklearn.datasets import fetch_openml\n",
        "from sklearn.metrics import accuracy_score, classification_report\n",
        "\n",
        "# Load MNIST dataset\n",
        "print(\"Loading MNIST dataset...\")\n",
        "mnist = fetch_openml('mnist_784', version=1)\n",
        "X = mnist.data\n",
        "y = mnist.target\n",
        "\n",
        "# Normalize the data\n",
        "X = X / 255.0\n",
        "\n",
        "# Split into training and test sets\n",
        "X_train, X_test, y_train, y_test = train_test_split(X, y, test_size=0.2, random_state=42)\n"
      ]
    },
    {
      "cell_type": "markdown",
      "id": "28b8572d",
      "metadata": {
        "id": "28b8572d"
      },
      "source": [
        "## Part 2: Implement SVD for Dimensionality Reduction"
      ]
    },
    {
      "cell_type": "code",
      "execution_count": 4,
      "id": "b3bd59f3",
      "metadata": {
        "id": "b3bd59f3"
      },
      "outputs": [],
      "source": [
        "def apply_svd_custom(X_train, X_test, n_components):\n",
        "    U_train, Sigma_train, VT_train = np.linalg.svd(X_train, full_matrices=False)\n",
        "\n",
        "    # Reduce the dimensions by taking only the top `n_components`\n",
        "    U_train_reduced = U_train[:, :n_components]\n",
        "    Sigma_train_reduced = np.diag(Sigma_train[:n_components])\n",
        "    VT_train_reduced = VT_train[:n_components, :]\n",
        "\n",
        "    # Reconstruct the reduced data\n",
        "    X_train_reduced = np.dot(U_train_reduced, Sigma_train_reduced)\n",
        "\n",
        "    # Apply the same transformation to the test data\n",
        "    U_test, Sigma_test, VT_test = np.linalg.svd(X_test, full_matrices=False)\n",
        "\n",
        "    # Reconstruct the reduced test data\n",
        "    U_test_reduced = U_test[:, :n_components]\n",
        "    X_test_reduced = np.dot(U_test_reduced, Sigma_train_reduced)  # Use Sigma_train for consistency\n",
        "\n",
        "    return X_train_reduced, X_test_reduced"
      ]
    },
    {
      "cell_type": "markdown",
      "id": "eb2a7a9d",
      "metadata": {
        "id": "eb2a7a9d"
      },
      "source": [
        "## Part 3: Train Logistic Regression and Measure Performance"
      ]
    },
    {
      "cell_type": "code",
      "execution_count": 5,
      "id": "dbfc0b10",
      "metadata": {
        "id": "dbfc0b10"
      },
      "outputs": [],
      "source": [
        "# Function to train logistic regression and track training time\n",
        "def train_logistic_regression(X_train, y_train, X_test, y_test):\n",
        "    model = LogisticRegression(max_iter=1000, solver='saga', random_state=42, multi_class='multinomial')\n",
        "\n",
        "    # Measure training time\n",
        "    start_time = time.time()\n",
        "    model.fit(X_train, y_train)\n",
        "    training_time = time.time() - start_time\n",
        "\n",
        "    y_pred = model.predict(X_test)\n",
        "    accuracy = accuracy_score(y_test, y_pred)\n",
        "\n",
        "    return accuracy, training_time\n"
      ]
    },
    {
      "cell_type": "markdown",
      "id": "2e557a05",
      "metadata": {
        "id": "2e557a05"
      },
      "source": [
        "## Part 4: Experiment with Different Levels of SVD\n",
        "\n",
        "Now, apply SVD with varying numbers of components and observe how the dimensionality reduction impacts the model's performance. Record both the accuracy and training time for each number of components.\n"
      ]
    },
    {
      "cell_type": "code",
      "execution_count": 6,
      "id": "3a460725",
      "metadata": {
        "colab": {
          "base_uri": "https://localhost:8080/"
        },
        "id": "3a460725",
        "outputId": "0440be4f-bca3-46d6-c46f-5e5cbb1f0678"
      },
      "outputs": [
        {
          "output_type": "stream",
          "name": "stdout",
          "text": [
            "Training models with different levels of SVD preprocessing...\n",
            "Applying custom SVD with 1 components...\n"
          ]
        },
        {
          "output_type": "stream",
          "name": "stderr",
          "text": [
            "/usr/local/lib/python3.10/dist-packages/sklearn/linear_model/_logistic.py:1247: FutureWarning: 'multi_class' was deprecated in version 1.5 and will be removed in 1.7. From then on, it will always use 'multinomial'. Leave it to its default value to avoid this warning.\n",
            "  warnings.warn(\n"
          ]
        },
        {
          "output_type": "stream",
          "name": "stdout",
          "text": [
            "SVD components: 1, Accuracy: 0.1051, Training time: 0.8431 seconds\n",
            "Applying custom SVD with 2 components...\n"
          ]
        },
        {
          "output_type": "stream",
          "name": "stderr",
          "text": [
            "/usr/local/lib/python3.10/dist-packages/sklearn/linear_model/_logistic.py:1247: FutureWarning: 'multi_class' was deprecated in version 1.5 and will be removed in 1.7. From then on, it will always use 'multinomial'. Leave it to its default value to avoid this warning.\n",
            "  warnings.warn(\n"
          ]
        },
        {
          "output_type": "stream",
          "name": "stdout",
          "text": [
            "SVD components: 2, Accuracy: 0.2723, Training time: 0.5261 seconds\n",
            "Applying custom SVD with 3 components...\n"
          ]
        },
        {
          "output_type": "stream",
          "name": "stderr",
          "text": [
            "/usr/local/lib/python3.10/dist-packages/sklearn/linear_model/_logistic.py:1247: FutureWarning: 'multi_class' was deprecated in version 1.5 and will be removed in 1.7. From then on, it will always use 'multinomial'. Leave it to its default value to avoid this warning.\n",
            "  warnings.warn(\n"
          ]
        },
        {
          "output_type": "stream",
          "name": "stdout",
          "text": [
            "SVD components: 3, Accuracy: 0.4200, Training time: 0.6342 seconds\n",
            "Applying custom SVD with 4 components...\n"
          ]
        },
        {
          "output_type": "stream",
          "name": "stderr",
          "text": [
            "/usr/local/lib/python3.10/dist-packages/sklearn/linear_model/_logistic.py:1247: FutureWarning: 'multi_class' was deprecated in version 1.5 and will be removed in 1.7. From then on, it will always use 'multinomial'. Leave it to its default value to avoid this warning.\n",
            "  warnings.warn(\n"
          ]
        },
        {
          "output_type": "stream",
          "name": "stdout",
          "text": [
            "SVD components: 4, Accuracy: 0.4682, Training time: 1.0650 seconds\n",
            "Applying custom SVD with 5 components...\n"
          ]
        },
        {
          "output_type": "stream",
          "name": "stderr",
          "text": [
            "/usr/local/lib/python3.10/dist-packages/sklearn/linear_model/_logistic.py:1247: FutureWarning: 'multi_class' was deprecated in version 1.5 and will be removed in 1.7. From then on, it will always use 'multinomial'. Leave it to its default value to avoid this warning.\n",
            "  warnings.warn(\n"
          ]
        },
        {
          "output_type": "stream",
          "name": "stdout",
          "text": [
            "SVD components: 5, Accuracy: 0.5889, Training time: 0.9176 seconds\n",
            "Applying custom SVD with 6 components...\n"
          ]
        },
        {
          "output_type": "stream",
          "name": "stderr",
          "text": [
            "/usr/local/lib/python3.10/dist-packages/sklearn/linear_model/_logistic.py:1247: FutureWarning: 'multi_class' was deprecated in version 1.5 and will be removed in 1.7. From then on, it will always use 'multinomial'. Leave it to its default value to avoid this warning.\n",
            "  warnings.warn(\n"
          ]
        },
        {
          "output_type": "stream",
          "name": "stdout",
          "text": [
            "SVD components: 6, Accuracy: 0.4890, Training time: 0.7957 seconds\n",
            "Applying custom SVD with 7 components...\n"
          ]
        },
        {
          "output_type": "stream",
          "name": "stderr",
          "text": [
            "/usr/local/lib/python3.10/dist-packages/sklearn/linear_model/_logistic.py:1247: FutureWarning: 'multi_class' was deprecated in version 1.5 and will be removed in 1.7. From then on, it will always use 'multinomial'. Leave it to its default value to avoid this warning.\n",
            "  warnings.warn(\n"
          ]
        },
        {
          "output_type": "stream",
          "name": "stdout",
          "text": [
            "SVD components: 7, Accuracy: 0.5374, Training time: 0.8292 seconds\n",
            "Applying custom SVD with 8 components...\n"
          ]
        },
        {
          "output_type": "stream",
          "name": "stderr",
          "text": [
            "/usr/local/lib/python3.10/dist-packages/sklearn/linear_model/_logistic.py:1247: FutureWarning: 'multi_class' was deprecated in version 1.5 and will be removed in 1.7. From then on, it will always use 'multinomial'. Leave it to its default value to avoid this warning.\n",
            "  warnings.warn(\n"
          ]
        },
        {
          "output_type": "stream",
          "name": "stdout",
          "text": [
            "SVD components: 8, Accuracy: 0.4629, Training time: 1.1292 seconds\n",
            "Applying custom SVD with 9 components...\n"
          ]
        },
        {
          "output_type": "stream",
          "name": "stderr",
          "text": [
            "/usr/local/lib/python3.10/dist-packages/sklearn/linear_model/_logistic.py:1247: FutureWarning: 'multi_class' was deprecated in version 1.5 and will be removed in 1.7. From then on, it will always use 'multinomial'. Leave it to its default value to avoid this warning.\n",
            "  warnings.warn(\n"
          ]
        },
        {
          "output_type": "stream",
          "name": "stdout",
          "text": [
            "SVD components: 9, Accuracy: 0.3791, Training time: 1.0443 seconds\n",
            "Applying custom SVD with 10 components...\n"
          ]
        },
        {
          "output_type": "stream",
          "name": "stderr",
          "text": [
            "/usr/local/lib/python3.10/dist-packages/sklearn/linear_model/_logistic.py:1247: FutureWarning: 'multi_class' was deprecated in version 1.5 and will be removed in 1.7. From then on, it will always use 'multinomial'. Leave it to its default value to avoid this warning.\n",
            "  warnings.warn(\n"
          ]
        },
        {
          "output_type": "stream",
          "name": "stdout",
          "text": [
            "SVD components: 10, Accuracy: 0.4026, Training time: 1.1434 seconds\n",
            "Applying custom SVD with 11 components...\n"
          ]
        },
        {
          "output_type": "stream",
          "name": "stderr",
          "text": [
            "/usr/local/lib/python3.10/dist-packages/sklearn/linear_model/_logistic.py:1247: FutureWarning: 'multi_class' was deprecated in version 1.5 and will be removed in 1.7. From then on, it will always use 'multinomial'. Leave it to its default value to avoid this warning.\n",
            "  warnings.warn(\n"
          ]
        },
        {
          "output_type": "stream",
          "name": "stdout",
          "text": [
            "SVD components: 11, Accuracy: 0.3721, Training time: 1.2065 seconds\n",
            "Applying custom SVD with 12 components...\n"
          ]
        },
        {
          "output_type": "stream",
          "name": "stderr",
          "text": [
            "/usr/local/lib/python3.10/dist-packages/sklearn/linear_model/_logistic.py:1247: FutureWarning: 'multi_class' was deprecated in version 1.5 and will be removed in 1.7. From then on, it will always use 'multinomial'. Leave it to its default value to avoid this warning.\n",
            "  warnings.warn(\n"
          ]
        },
        {
          "output_type": "stream",
          "name": "stdout",
          "text": [
            "SVD components: 12, Accuracy: 0.3684, Training time: 1.4535 seconds\n",
            "Applying custom SVD with 13 components...\n"
          ]
        },
        {
          "output_type": "stream",
          "name": "stderr",
          "text": [
            "/usr/local/lib/python3.10/dist-packages/sklearn/linear_model/_logistic.py:1247: FutureWarning: 'multi_class' was deprecated in version 1.5 and will be removed in 1.7. From then on, it will always use 'multinomial'. Leave it to its default value to avoid this warning.\n",
            "  warnings.warn(\n"
          ]
        },
        {
          "output_type": "stream",
          "name": "stdout",
          "text": [
            "SVD components: 13, Accuracy: 0.3224, Training time: 1.3205 seconds\n",
            "Applying custom SVD with 14 components...\n"
          ]
        },
        {
          "output_type": "stream",
          "name": "stderr",
          "text": [
            "/usr/local/lib/python3.10/dist-packages/sklearn/linear_model/_logistic.py:1247: FutureWarning: 'multi_class' was deprecated in version 1.5 and will be removed in 1.7. From then on, it will always use 'multinomial'. Leave it to its default value to avoid this warning.\n",
            "  warnings.warn(\n"
          ]
        },
        {
          "output_type": "stream",
          "name": "stdout",
          "text": [
            "SVD components: 14, Accuracy: 0.3136, Training time: 1.3084 seconds\n",
            "Applying custom SVD with 15 components...\n"
          ]
        },
        {
          "output_type": "stream",
          "name": "stderr",
          "text": [
            "/usr/local/lib/python3.10/dist-packages/sklearn/linear_model/_logistic.py:1247: FutureWarning: 'multi_class' was deprecated in version 1.5 and will be removed in 1.7. From then on, it will always use 'multinomial'. Leave it to its default value to avoid this warning.\n",
            "  warnings.warn(\n"
          ]
        },
        {
          "output_type": "stream",
          "name": "stdout",
          "text": [
            "SVD components: 15, Accuracy: 0.3048, Training time: 2.2359 seconds\n",
            "Applying custom SVD with 16 components...\n"
          ]
        },
        {
          "output_type": "stream",
          "name": "stderr",
          "text": [
            "/usr/local/lib/python3.10/dist-packages/sklearn/linear_model/_logistic.py:1247: FutureWarning: 'multi_class' was deprecated in version 1.5 and will be removed in 1.7. From then on, it will always use 'multinomial'. Leave it to its default value to avoid this warning.\n",
            "  warnings.warn(\n"
          ]
        },
        {
          "output_type": "stream",
          "name": "stdout",
          "text": [
            "SVD components: 16, Accuracy: 0.2973, Training time: 1.3772 seconds\n",
            "Applying custom SVD with 17 components...\n"
          ]
        },
        {
          "output_type": "stream",
          "name": "stderr",
          "text": [
            "/usr/local/lib/python3.10/dist-packages/sklearn/linear_model/_logistic.py:1247: FutureWarning: 'multi_class' was deprecated in version 1.5 and will be removed in 1.7. From then on, it will always use 'multinomial'. Leave it to its default value to avoid this warning.\n",
            "  warnings.warn(\n"
          ]
        },
        {
          "output_type": "stream",
          "name": "stdout",
          "text": [
            "SVD components: 17, Accuracy: 0.3080, Training time: 1.4281 seconds\n",
            "Applying custom SVD with 18 components...\n"
          ]
        },
        {
          "output_type": "stream",
          "name": "stderr",
          "text": [
            "/usr/local/lib/python3.10/dist-packages/sklearn/linear_model/_logistic.py:1247: FutureWarning: 'multi_class' was deprecated in version 1.5 and will be removed in 1.7. From then on, it will always use 'multinomial'. Leave it to its default value to avoid this warning.\n",
            "  warnings.warn(\n"
          ]
        },
        {
          "output_type": "stream",
          "name": "stdout",
          "text": [
            "SVD components: 18, Accuracy: 0.2958, Training time: 2.3931 seconds\n",
            "Applying custom SVD with 19 components...\n"
          ]
        },
        {
          "output_type": "stream",
          "name": "stderr",
          "text": [
            "/usr/local/lib/python3.10/dist-packages/sklearn/linear_model/_logistic.py:1247: FutureWarning: 'multi_class' was deprecated in version 1.5 and will be removed in 1.7. From then on, it will always use 'multinomial'. Leave it to its default value to avoid this warning.\n",
            "  warnings.warn(\n"
          ]
        },
        {
          "output_type": "stream",
          "name": "stdout",
          "text": [
            "SVD components: 19, Accuracy: 0.2881, Training time: 1.5081 seconds\n",
            "Applying custom SVD with 20 components...\n"
          ]
        },
        {
          "output_type": "stream",
          "name": "stderr",
          "text": [
            "/usr/local/lib/python3.10/dist-packages/sklearn/linear_model/_logistic.py:1247: FutureWarning: 'multi_class' was deprecated in version 1.5 and will be removed in 1.7. From then on, it will always use 'multinomial'. Leave it to its default value to avoid this warning.\n",
            "  warnings.warn(\n"
          ]
        },
        {
          "output_type": "stream",
          "name": "stdout",
          "text": [
            "SVD components: 20, Accuracy: 0.3018, Training time: 1.5800 seconds\n",
            "Applying custom SVD with 21 components...\n"
          ]
        },
        {
          "output_type": "stream",
          "name": "stderr",
          "text": [
            "/usr/local/lib/python3.10/dist-packages/sklearn/linear_model/_logistic.py:1247: FutureWarning: 'multi_class' was deprecated in version 1.5 and will be removed in 1.7. From then on, it will always use 'multinomial'. Leave it to its default value to avoid this warning.\n",
            "  warnings.warn(\n"
          ]
        },
        {
          "output_type": "stream",
          "name": "stdout",
          "text": [
            "SVD components: 21, Accuracy: 0.3001, Training time: 2.7542 seconds\n",
            "Applying custom SVD with 22 components...\n"
          ]
        },
        {
          "output_type": "stream",
          "name": "stderr",
          "text": [
            "/usr/local/lib/python3.10/dist-packages/sklearn/linear_model/_logistic.py:1247: FutureWarning: 'multi_class' was deprecated in version 1.5 and will be removed in 1.7. From then on, it will always use 'multinomial'. Leave it to its default value to avoid this warning.\n",
            "  warnings.warn(\n"
          ]
        },
        {
          "output_type": "stream",
          "name": "stdout",
          "text": [
            "SVD components: 22, Accuracy: 0.3037, Training time: 1.7819 seconds\n",
            "Applying custom SVD with 23 components...\n"
          ]
        },
        {
          "output_type": "stream",
          "name": "stderr",
          "text": [
            "/usr/local/lib/python3.10/dist-packages/sklearn/linear_model/_logistic.py:1247: FutureWarning: 'multi_class' was deprecated in version 1.5 and will be removed in 1.7. From then on, it will always use 'multinomial'. Leave it to its default value to avoid this warning.\n",
            "  warnings.warn(\n"
          ]
        },
        {
          "output_type": "stream",
          "name": "stdout",
          "text": [
            "SVD components: 23, Accuracy: 0.3196, Training time: 2.5407 seconds\n",
            "Applying custom SVD with 24 components...\n"
          ]
        },
        {
          "output_type": "stream",
          "name": "stderr",
          "text": [
            "/usr/local/lib/python3.10/dist-packages/sklearn/linear_model/_logistic.py:1247: FutureWarning: 'multi_class' was deprecated in version 1.5 and will be removed in 1.7. From then on, it will always use 'multinomial'. Leave it to its default value to avoid this warning.\n",
            "  warnings.warn(\n"
          ]
        },
        {
          "output_type": "stream",
          "name": "stdout",
          "text": [
            "SVD components: 24, Accuracy: 0.3208, Training time: 2.9450 seconds\n",
            "Applying custom SVD with 25 components...\n"
          ]
        },
        {
          "output_type": "stream",
          "name": "stderr",
          "text": [
            "/usr/local/lib/python3.10/dist-packages/sklearn/linear_model/_logistic.py:1247: FutureWarning: 'multi_class' was deprecated in version 1.5 and will be removed in 1.7. From then on, it will always use 'multinomial'. Leave it to its default value to avoid this warning.\n",
            "  warnings.warn(\n"
          ]
        },
        {
          "output_type": "stream",
          "name": "stdout",
          "text": [
            "SVD components: 25, Accuracy: 0.3263, Training time: 3.4379 seconds\n",
            "Applying custom SVD with 26 components...\n"
          ]
        },
        {
          "output_type": "stream",
          "name": "stderr",
          "text": [
            "/usr/local/lib/python3.10/dist-packages/sklearn/linear_model/_logistic.py:1247: FutureWarning: 'multi_class' was deprecated in version 1.5 and will be removed in 1.7. From then on, it will always use 'multinomial'. Leave it to its default value to avoid this warning.\n",
            "  warnings.warn(\n"
          ]
        },
        {
          "output_type": "stream",
          "name": "stdout",
          "text": [
            "SVD components: 26, Accuracy: 0.3369, Training time: 4.2431 seconds\n",
            "Applying custom SVD with 27 components...\n"
          ]
        },
        {
          "output_type": "stream",
          "name": "stderr",
          "text": [
            "/usr/local/lib/python3.10/dist-packages/sklearn/linear_model/_logistic.py:1247: FutureWarning: 'multi_class' was deprecated in version 1.5 and will be removed in 1.7. From then on, it will always use 'multinomial'. Leave it to its default value to avoid this warning.\n",
            "  warnings.warn(\n"
          ]
        },
        {
          "output_type": "stream",
          "name": "stdout",
          "text": [
            "SVD components: 27, Accuracy: 0.3257, Training time: 3.4974 seconds\n",
            "Applying custom SVD with 28 components...\n"
          ]
        },
        {
          "output_type": "stream",
          "name": "stderr",
          "text": [
            "/usr/local/lib/python3.10/dist-packages/sklearn/linear_model/_logistic.py:1247: FutureWarning: 'multi_class' was deprecated in version 1.5 and will be removed in 1.7. From then on, it will always use 'multinomial'. Leave it to its default value to avoid this warning.\n",
            "  warnings.warn(\n"
          ]
        },
        {
          "output_type": "stream",
          "name": "stdout",
          "text": [
            "SVD components: 28, Accuracy: 0.3254, Training time: 4.3649 seconds\n",
            "Applying custom SVD with 29 components...\n"
          ]
        },
        {
          "output_type": "stream",
          "name": "stderr",
          "text": [
            "/usr/local/lib/python3.10/dist-packages/sklearn/linear_model/_logistic.py:1247: FutureWarning: 'multi_class' was deprecated in version 1.5 and will be removed in 1.7. From then on, it will always use 'multinomial'. Leave it to its default value to avoid this warning.\n",
            "  warnings.warn(\n"
          ]
        },
        {
          "output_type": "stream",
          "name": "stdout",
          "text": [
            "SVD components: 29, Accuracy: 0.3281, Training time: 4.2424 seconds\n",
            "Applying custom SVD with 30 components...\n"
          ]
        },
        {
          "output_type": "stream",
          "name": "stderr",
          "text": [
            "/usr/local/lib/python3.10/dist-packages/sklearn/linear_model/_logistic.py:1247: FutureWarning: 'multi_class' was deprecated in version 1.5 and will be removed in 1.7. From then on, it will always use 'multinomial'. Leave it to its default value to avoid this warning.\n",
            "  warnings.warn(\n"
          ]
        },
        {
          "output_type": "stream",
          "name": "stdout",
          "text": [
            "SVD components: 30, Accuracy: 0.3287, Training time: 4.3415 seconds\n",
            "Applying custom SVD with 31 components...\n"
          ]
        },
        {
          "output_type": "stream",
          "name": "stderr",
          "text": [
            "/usr/local/lib/python3.10/dist-packages/sklearn/linear_model/_logistic.py:1247: FutureWarning: 'multi_class' was deprecated in version 1.5 and will be removed in 1.7. From then on, it will always use 'multinomial'. Leave it to its default value to avoid this warning.\n",
            "  warnings.warn(\n"
          ]
        },
        {
          "output_type": "stream",
          "name": "stdout",
          "text": [
            "SVD components: 31, Accuracy: 0.3278, Training time: 7.0558 seconds\n",
            "Applying custom SVD with 32 components...\n"
          ]
        },
        {
          "output_type": "stream",
          "name": "stderr",
          "text": [
            "/usr/local/lib/python3.10/dist-packages/sklearn/linear_model/_logistic.py:1247: FutureWarning: 'multi_class' was deprecated in version 1.5 and will be removed in 1.7. From then on, it will always use 'multinomial'. Leave it to its default value to avoid this warning.\n",
            "  warnings.warn(\n"
          ]
        },
        {
          "output_type": "stream",
          "name": "stdout",
          "text": [
            "SVD components: 32, Accuracy: 0.3269, Training time: 4.9814 seconds\n",
            "Applying custom SVD with 33 components...\n"
          ]
        },
        {
          "output_type": "stream",
          "name": "stderr",
          "text": [
            "/usr/local/lib/python3.10/dist-packages/sklearn/linear_model/_logistic.py:1247: FutureWarning: 'multi_class' was deprecated in version 1.5 and will be removed in 1.7. From then on, it will always use 'multinomial'. Leave it to its default value to avoid this warning.\n",
            "  warnings.warn(\n"
          ]
        },
        {
          "output_type": "stream",
          "name": "stdout",
          "text": [
            "SVD components: 33, Accuracy: 0.3295, Training time: 4.6211 seconds\n",
            "Applying custom SVD with 34 components...\n"
          ]
        },
        {
          "output_type": "stream",
          "name": "stderr",
          "text": [
            "/usr/local/lib/python3.10/dist-packages/sklearn/linear_model/_logistic.py:1247: FutureWarning: 'multi_class' was deprecated in version 1.5 and will be removed in 1.7. From then on, it will always use 'multinomial'. Leave it to its default value to avoid this warning.\n",
            "  warnings.warn(\n"
          ]
        },
        {
          "output_type": "stream",
          "name": "stdout",
          "text": [
            "SVD components: 34, Accuracy: 0.3286, Training time: 5.9994 seconds\n",
            "Applying custom SVD with 35 components...\n"
          ]
        },
        {
          "output_type": "stream",
          "name": "stderr",
          "text": [
            "/usr/local/lib/python3.10/dist-packages/sklearn/linear_model/_logistic.py:1247: FutureWarning: 'multi_class' was deprecated in version 1.5 and will be removed in 1.7. From then on, it will always use 'multinomial'. Leave it to its default value to avoid this warning.\n",
            "  warnings.warn(\n"
          ]
        },
        {
          "output_type": "stream",
          "name": "stdout",
          "text": [
            "SVD components: 35, Accuracy: 0.3231, Training time: 4.8947 seconds\n",
            "Applying custom SVD with 36 components...\n"
          ]
        },
        {
          "output_type": "stream",
          "name": "stderr",
          "text": [
            "/usr/local/lib/python3.10/dist-packages/sklearn/linear_model/_logistic.py:1247: FutureWarning: 'multi_class' was deprecated in version 1.5 and will be removed in 1.7. From then on, it will always use 'multinomial'. Leave it to its default value to avoid this warning.\n",
            "  warnings.warn(\n"
          ]
        },
        {
          "output_type": "stream",
          "name": "stdout",
          "text": [
            "SVD components: 36, Accuracy: 0.3143, Training time: 6.1480 seconds\n",
            "Applying custom SVD with 37 components...\n"
          ]
        },
        {
          "output_type": "stream",
          "name": "stderr",
          "text": [
            "/usr/local/lib/python3.10/dist-packages/sklearn/linear_model/_logistic.py:1247: FutureWarning: 'multi_class' was deprecated in version 1.5 and will be removed in 1.7. From then on, it will always use 'multinomial'. Leave it to its default value to avoid this warning.\n",
            "  warnings.warn(\n"
          ]
        },
        {
          "output_type": "stream",
          "name": "stdout",
          "text": [
            "SVD components: 37, Accuracy: 0.3169, Training time: 5.7222 seconds\n",
            "Applying custom SVD with 38 components...\n"
          ]
        },
        {
          "output_type": "stream",
          "name": "stderr",
          "text": [
            "/usr/local/lib/python3.10/dist-packages/sklearn/linear_model/_logistic.py:1247: FutureWarning: 'multi_class' was deprecated in version 1.5 and will be removed in 1.7. From then on, it will always use 'multinomial'. Leave it to its default value to avoid this warning.\n",
            "  warnings.warn(\n"
          ]
        },
        {
          "output_type": "stream",
          "name": "stdout",
          "text": [
            "SVD components: 38, Accuracy: 0.3121, Training time: 5.1377 seconds\n",
            "Applying custom SVD with 39 components...\n"
          ]
        },
        {
          "output_type": "stream",
          "name": "stderr",
          "text": [
            "/usr/local/lib/python3.10/dist-packages/sklearn/linear_model/_logistic.py:1247: FutureWarning: 'multi_class' was deprecated in version 1.5 and will be removed in 1.7. From then on, it will always use 'multinomial'. Leave it to its default value to avoid this warning.\n",
            "  warnings.warn(\n"
          ]
        },
        {
          "output_type": "stream",
          "name": "stdout",
          "text": [
            "SVD components: 39, Accuracy: 0.3099, Training time: 6.4266 seconds\n",
            "Applying custom SVD with 40 components...\n"
          ]
        },
        {
          "output_type": "stream",
          "name": "stderr",
          "text": [
            "/usr/local/lib/python3.10/dist-packages/sklearn/linear_model/_logistic.py:1247: FutureWarning: 'multi_class' was deprecated in version 1.5 and will be removed in 1.7. From then on, it will always use 'multinomial'. Leave it to its default value to avoid this warning.\n",
            "  warnings.warn(\n"
          ]
        },
        {
          "output_type": "stream",
          "name": "stdout",
          "text": [
            "SVD components: 40, Accuracy: 0.3124, Training time: 7.2438 seconds\n",
            "Applying custom SVD with 41 components...\n"
          ]
        },
        {
          "output_type": "stream",
          "name": "stderr",
          "text": [
            "/usr/local/lib/python3.10/dist-packages/sklearn/linear_model/_logistic.py:1247: FutureWarning: 'multi_class' was deprecated in version 1.5 and will be removed in 1.7. From then on, it will always use 'multinomial'. Leave it to its default value to avoid this warning.\n",
            "  warnings.warn(\n"
          ]
        },
        {
          "output_type": "stream",
          "name": "stdout",
          "text": [
            "SVD components: 41, Accuracy: 0.3122, Training time: 6.8602 seconds\n",
            "Applying custom SVD with 42 components...\n"
          ]
        },
        {
          "output_type": "stream",
          "name": "stderr",
          "text": [
            "/usr/local/lib/python3.10/dist-packages/sklearn/linear_model/_logistic.py:1247: FutureWarning: 'multi_class' was deprecated in version 1.5 and will be removed in 1.7. From then on, it will always use 'multinomial'. Leave it to its default value to avoid this warning.\n",
            "  warnings.warn(\n"
          ]
        },
        {
          "output_type": "stream",
          "name": "stdout",
          "text": [
            "SVD components: 42, Accuracy: 0.3147, Training time: 8.0158 seconds\n",
            "Applying custom SVD with 43 components...\n"
          ]
        },
        {
          "output_type": "stream",
          "name": "stderr",
          "text": [
            "/usr/local/lib/python3.10/dist-packages/sklearn/linear_model/_logistic.py:1247: FutureWarning: 'multi_class' was deprecated in version 1.5 and will be removed in 1.7. From then on, it will always use 'multinomial'. Leave it to its default value to avoid this warning.\n",
            "  warnings.warn(\n"
          ]
        },
        {
          "output_type": "stream",
          "name": "stdout",
          "text": [
            "SVD components: 43, Accuracy: 0.3155, Training time: 8.9782 seconds\n",
            "Applying custom SVD with 44 components...\n"
          ]
        },
        {
          "output_type": "stream",
          "name": "stderr",
          "text": [
            "/usr/local/lib/python3.10/dist-packages/sklearn/linear_model/_logistic.py:1247: FutureWarning: 'multi_class' was deprecated in version 1.5 and will be removed in 1.7. From then on, it will always use 'multinomial'. Leave it to its default value to avoid this warning.\n",
            "  warnings.warn(\n"
          ]
        },
        {
          "output_type": "stream",
          "name": "stdout",
          "text": [
            "SVD components: 44, Accuracy: 0.3228, Training time: 9.9431 seconds\n",
            "Applying custom SVD with 45 components...\n"
          ]
        },
        {
          "output_type": "stream",
          "name": "stderr",
          "text": [
            "/usr/local/lib/python3.10/dist-packages/sklearn/linear_model/_logistic.py:1247: FutureWarning: 'multi_class' was deprecated in version 1.5 and will be removed in 1.7. From then on, it will always use 'multinomial'. Leave it to its default value to avoid this warning.\n",
            "  warnings.warn(\n"
          ]
        },
        {
          "output_type": "stream",
          "name": "stdout",
          "text": [
            "SVD components: 45, Accuracy: 0.3236, Training time: 10.9690 seconds\n",
            "Applying custom SVD with 46 components...\n"
          ]
        },
        {
          "output_type": "stream",
          "name": "stderr",
          "text": [
            "/usr/local/lib/python3.10/dist-packages/sklearn/linear_model/_logistic.py:1247: FutureWarning: 'multi_class' was deprecated in version 1.5 and will be removed in 1.7. From then on, it will always use 'multinomial'. Leave it to its default value to avoid this warning.\n",
            "  warnings.warn(\n"
          ]
        },
        {
          "output_type": "stream",
          "name": "stdout",
          "text": [
            "SVD components: 46, Accuracy: 0.3231, Training time: 11.2238 seconds\n",
            "Applying custom SVD with 47 components...\n"
          ]
        },
        {
          "output_type": "stream",
          "name": "stderr",
          "text": [
            "/usr/local/lib/python3.10/dist-packages/sklearn/linear_model/_logistic.py:1247: FutureWarning: 'multi_class' was deprecated in version 1.5 and will be removed in 1.7. From then on, it will always use 'multinomial'. Leave it to its default value to avoid this warning.\n",
            "  warnings.warn(\n"
          ]
        },
        {
          "output_type": "stream",
          "name": "stdout",
          "text": [
            "SVD components: 47, Accuracy: 0.3234, Training time: 11.3707 seconds\n",
            "Applying custom SVD with 48 components...\n"
          ]
        },
        {
          "output_type": "stream",
          "name": "stderr",
          "text": [
            "/usr/local/lib/python3.10/dist-packages/sklearn/linear_model/_logistic.py:1247: FutureWarning: 'multi_class' was deprecated in version 1.5 and will be removed in 1.7. From then on, it will always use 'multinomial'. Leave it to its default value to avoid this warning.\n",
            "  warnings.warn(\n"
          ]
        },
        {
          "output_type": "stream",
          "name": "stdout",
          "text": [
            "SVD components: 48, Accuracy: 0.3225, Training time: 11.4611 seconds\n",
            "Applying custom SVD with 49 components...\n"
          ]
        },
        {
          "output_type": "stream",
          "name": "stderr",
          "text": [
            "/usr/local/lib/python3.10/dist-packages/sklearn/linear_model/_logistic.py:1247: FutureWarning: 'multi_class' was deprecated in version 1.5 and will be removed in 1.7. From then on, it will always use 'multinomial'. Leave it to its default value to avoid this warning.\n",
            "  warnings.warn(\n"
          ]
        },
        {
          "output_type": "stream",
          "name": "stdout",
          "text": [
            "SVD components: 49, Accuracy: 0.3153, Training time: 11.9286 seconds\n",
            "Applying custom SVD with 50 components...\n"
          ]
        },
        {
          "output_type": "stream",
          "name": "stderr",
          "text": [
            "/usr/local/lib/python3.10/dist-packages/sklearn/linear_model/_logistic.py:1247: FutureWarning: 'multi_class' was deprecated in version 1.5 and will be removed in 1.7. From then on, it will always use 'multinomial'. Leave it to its default value to avoid this warning.\n",
            "  warnings.warn(\n"
          ]
        },
        {
          "output_type": "stream",
          "name": "stdout",
          "text": [
            "SVD components: 50, Accuracy: 0.3231, Training time: 16.1001 seconds\n"
          ]
        }
      ],
      "source": [
        "svd_components = [k for k in range(1, 51)]  # You need to decide what number to search...\n",
        "\n",
        "# Store the results\n",
        "results = []\n",
        "\n",
        "print(\"Training models with different levels of SVD preprocessing...\")\n",
        "for n_components in svd_components:\n",
        "    print(f\"Applying custom SVD with {n_components} components...\")\n",
        "\n",
        "    # Apply SVD to the training and test sets\n",
        "    # Call apply_svd_custom() here...\n",
        "    X_train_svd, X_test_svd = apply_svd_custom(X_train, X_test, n_components)\n",
        "\n",
        "    # Train the logistic regression model and get accuracy and training time\n",
        "    accuracy, training_time = train_logistic_regression(X_train_svd, y_train, X_test_svd, y_test)\n",
        "\n",
        "    print(f\"SVD components: {n_components}, Accuracy: {accuracy:.4f}, Training time: {training_time:.4f} seconds\")\n",
        "\n",
        "    results.append([n_components, accuracy, training_time])"
      ]
    },
    {
      "cell_type": "markdown",
      "id": "ea7aca12",
      "metadata": {
        "id": "ea7aca12"
      },
      "source": [
        "## Part 5: Visualize and Analyze the Results\n",
        "\n",
        "Finally, plot the accuracy, training time as a function of the number of SVD components, and top 5 singular vectors. This will help you understand the trade-off between dimensionality reduction, accuracy, and model training time, and how SVD generally works. Hint: singular vectors should be reshaped to 28x28 images for visualization.\n"
      ]
    },
    {
      "cell_type": "code",
      "execution_count": 10,
      "id": "92ef0497",
      "metadata": {
        "colab": {
          "base_uri": "https://localhost:8080/",
          "height": 507
        },
        "id": "92ef0497",
        "outputId": "4e891661-d050-4a45-c647-2477d299d64c"
      },
      "outputs": [
        {
          "output_type": "display_data",
          "data": {
            "text/plain": [
              "<Figure size 1200x500 with 2 Axes>"
            ],
            "image/png": "[encoded data removed]"
          },
          "metadata": {}
        }
      ],
      "source": [
        "def plot_accuracy_and_training_time(results):\n",
        "    n_components = [res[0] for res in results]\n",
        "    accuracies = [res[1] for res in results]\n",
        "    times = [res[2] for res in results]\n",
        "\n",
        "    plt.figure(figsize=(12, 5))\n",
        "\n",
        "    # Plot accuracy vs number of components\n",
        "    plt.subplot(1, 2, 1)\n",
        "    plt.plot(n_components, accuracies, marker='o', color='b')\n",
        "    plt.title('Accuracy vs Number of SVD Components')\n",
        "    plt.xlabel('Number of SVD Components')\n",
        "    plt.ylabel('Accuracy')\n",
        "    plt.grid(True)\n",
        "\n",
        "    # Plot training time vs number of components\n",
        "    plt.subplot(1, 2, 2)\n",
        "    plt.plot(n_components, times, marker='o', color='r')\n",
        "    plt.title('Training Time vs Number of SVD Components')\n",
        "    plt.xlabel('Number of SVD Components')\n",
        "    plt.ylabel('Training Time (seconds)')\n",
        "    plt.grid(True)\n",
        "\n",
        "    plt.tight_layout()\n",
        "    plt.autoscale()\n",
        "    plt.show()\n",
        "\n",
        "# Call the function to plot the results\n",
        "plot_accuracy_and_training_time(results)"
      ]
    },
    {
      "cell_type": "code",
      "source": [
        "def svd_custom(A):\n",
        "    # # Step 1: Compute A^T A\n",
        "    AtA = np.dot(A.T, A)\n",
        "\n",
        "    # # Step 3: Eigenvalue decomposition of AtA to get V and singular values\n",
        "    eigvals_AtA, V = np.linalg.eigh(AtA)\n",
        "    idx = np.argsort(eigvals_AtA)[::-1]\n",
        "    eigvals_AtA = eigvals_AtA[::-1]\n",
        "\n",
        "    first_zero = int(np.where(eigvals_AtA == 0)[0][0])\n",
        "\n",
        "    eigvals_AtA = eigvals_AtA[:first_zero]\n",
        "    idx = idx[:first_zero]\n",
        "\n",
        "    V = V[:, idx]\n",
        "    undiag_s = np.sqrt(eigvals_AtA)\n",
        "\n",
        "    U = np.dot(A,V) / undiag_s\n",
        "\n",
        "    return U, undiag_s, V.T\n",
        "\n",
        "U, S, VT = svd_custom(X_train)\n",
        "\n",
        "import matplotlib.pyplot as plt\n",
        "\n",
        "print(X_train.shape)  # Should print (56000, 784)\n",
        "# Extract the top 5 singular vectors\n",
        "# Extract the top 5 singular vectors from VT (which correspond to the original images)\n",
        "top_5_singular_vectors = VT[:5, :]  # Top 5 rows (singular vectors in original space)\n",
        "\n",
        "# Plot the top 5 singular vectors\n",
        "plt.figure(figsize=(15, 3))\n",
        "for i in range(5):\n",
        "    plt.subplot(1, 5, i + 1)\n",
        "    # Reshape to 28x28 for visualization\n",
        "    plt.imshow(top_5_singular_vectors[i].reshape(28, 28), cmap='gray')  # Correctly reshape\n",
        "    plt.axis('off')\n",
        "    plt.title(f'Singular Vector {i + 1}')\n",
        "\n",
        "plt.suptitle('Top 5 Singular Vectors')\n",
        "plt.show()"
      ],
      "metadata": {
        "colab": {
          "base_uri": "https://localhost:8080/",
          "height": 299
        },
        "id": "A_kMek5c0ULu",
        "outputId": "eeccd57d-b3b7-4b4b-d8b6-1d5f6bd35547"
      },
      "id": "A_kMek5c0ULu",
      "execution_count": 14,
      "outputs": [
        {
          "output_type": "stream",
          "name": "stdout",
          "text": [
            "(56000, 784)\n"
          ]
        },
        {
          "output_type": "display_data",
          "data": {
            "text/plain": [
              "<Figure size 1500x300 with 5 Axes>"
            ],
            "image/png": "[encoded data removed]"
          },
          "metadata": {}
        }
      ]
    },
    {
      "cell_type": "markdown",
      "id": "4210569a",
      "metadata": {
        "id": "4210569a"
      },
      "source": [
        "## Part 6: Analyze / Conclusion\n",
        "\n",
        "YOUR ANSWER:"
      ]
    },
    {
      "cell_type": "markdown",
      "source": [
        "With fewer components, the model trains faster but sacrifices some accuracy.\n",
        "As the number of components increases, accuracy improves but training time also increases. The optimal number of components depends on the specific application and the acceptable level of accuracy versus training time."
      ],
      "metadata": {
        "id": "nB6HCaW02N-w"
      },
      "id": "nB6HCaW02N-w"
    }
  ],
  "metadata": {
    "kernelspec": {
      "display_name": "Python 3",
      "language": "python",
      "name": "python3"
    },
    "language_info": {
      "codemirror_mode": {
        "name": "ipython",
        "version": 3
      },
      "file_extension": ".py",
      "mimetype": "text/x-python",
      "name": "python",
      "nbconvert_exporter": "python",
      "pygments_lexer": "ipython3",
      "version": "3.8.10"
    },
    "colab": {
      "provenance": []
    }
  },
  "nbformat": 4,
  "nbformat_minor": 5
}
